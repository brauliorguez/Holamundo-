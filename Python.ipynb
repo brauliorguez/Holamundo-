{
  "nbformat": 4,
  "nbformat_minor": 0,
  "metadata": {
    "colab": {
      "name": "Python.ipynb",
      "provenance": [],
      "collapsed_sections": [],
      "toc_visible": true,
      "authorship_tag": "ABX9TyMrX5QLIASS/5mVa1aKB+aA",
      "include_colab_link": true
    },
    "kernelspec": {
      "name": "python3",
      "display_name": "Python 3"
    }
  },
  "cells": [
    {
      "cell_type": "markdown",
      "metadata": {
        "id": "view-in-github",
        "colab_type": "text"
      },
      "source": [
        "<a href=\"https://colab.research.google.com/github/brauliorguez/Holamundo-/blob/master/Python.ipynb\" target=\"_parent\"><img src=\"https://colab.research.google.com/assets/colab-badge.svg\" alt=\"Open In Colab\"/></a>"
      ]
    },
    {
      "cell_type": "markdown",
      "metadata": {
        "id": "Ilaxo3D57LoS",
        "colab_type": "text"
      },
      "source": [
        "# **Bienvenido python**\n",
        "\n",
        "### Tutorial de Python, en este notbook veremos algunos conceptos y funciones del lenguaje *Python*\n",
        "---\n",
        "### **Introducción a Python**\n",
        "Python es un lenguaje de programación popular. Fue creado por Guido van Rossum y lanzado en <b>1991</b>.\n",
        "\n",
        "*Se utiliza para:*\n",
        "\n",
        "<ul>\n",
        "<li>Desarrollo web (lado del servidor).</li>\n",
        "<li>Desarrollo de software.</li>\n",
        "<li>Matematicas.</li>\n",
        "<li>Secuencias de comandos del sistema.</li>\n",
        "</ul>\n",
        "\n",
        "### **¿Qué puede hacer Python?**\n",
        "<ul>\n",
        "<li>Python se puede utilizar en un servidor para crear aplicaciones web</li>\n",
        "<li> Python se puede utilizar junto con el software para crear flujos de trabajo</li>\n",
        "<li> Python puede conectarse a sistemas de bases de datos. También puede leer y modificar archivos.</li>\n",
        "<li> Python se puede utilizar para manejar big data y realizar matemáticas complejas</li>\n",
        "<li> Python se puede utilizar para la creación rápida de prototipos o para el desarrollo de software listo para producción.</li>\n",
        "</ul>\n",
        "\n",
        "### **¿Por qué Python?**\n",
        "<ul>\n",
        "<li>Python funciona en diferentes plataformas (Windows, Mac, Linux, Raspberry Pi, etc.).</li>\n",
        "<li>Python tiene una sintaxis simple similar al idioma inglés.</li>\n",
        "<li> Python tiene una sintaxis que permite a los desarrolladores escribir programas con menos líneas que otros lenguajes de programación</li>\n",
        "<li>Python se ejecuta en un sistema de interpretación, lo que significa que el código se puede ejecutar tan pronto como se escribe. Esto significa que la creación de prototipos puede ser muy rápida </li>\n",
        "<li>Python se puede tratar de forma procedimental, orientada a objetos o funcional. </li>\n",
        "</ul>\n",
        "\n",
        "### **DATO CURIOSO**\n",
        "- La versión principal más reciente de Python es Python 3, que usaremos en este tutorial. Sin embargo, Python 2, aunque no se actualiza con nada más que actualizaciones de seguridad, sigue siendo bastante popular.\n",
        "- En este tutorial, Python se escribirá en un editor de texto. Es posible escribir Python en un entorno de desarrollo integrado, como Thonny, Pycharm, Netbeans o Eclipse, que son particularmente útiles al administrar colecciones más grandes de archivos Python.\n",
        "\n",
        "### **Sintaxis de Python en comparación con otros lenguajes de programación**\n",
        "- Python fue diseñado para ser legible y tiene algunas similitudes con el idioma inglés con influencia de las matemáticas.\n",
        "- Python usa nuevas líneas para completar un comando, a diferencia de otros lenguajes de programación que a menudo usan punto y coma o paréntesis.\n",
        "- Python se basa en la sangría, utilizando espacios en blanco, para definir el alcance; como el alcance de los bucles, funciones y clases. Otros lenguajes de programación suelen utilizar corchetes para este propósito.\n",
        "\n",
        "### <i><strong>B</strong>ienvenido al curso de <b>Python!</b><i>\n",
        "\n"
      ]
    },
    {
      "cell_type": "markdown",
      "metadata": {
        "id": "TN5Du2tJHWUI",
        "colab_type": "text"
      },
      "source": [
        "# **Sintaxis de Python**\n",
        "---\n",
        "- **Ejecutar la sintaxis de Python**\n",
        "<p>Comenzaremos a escribir nuestro primer programa y como es un clasico cuando se esta empezando a prgramas utlizaremos el </p> \"HolaMundo\" "
      ]
    },
    {
      "cell_type": "code",
      "metadata": {
        "id": "Qg3JZCYhKj7k",
        "colab_type": "code",
        "colab": {}
      },
      "source": [
        "#Puedes editar el mensaje que esta ubicado dentro de las comillas (\"\")\n",
        "print (\"Hola Mundo este es mi primer programa en python\")\n"
      ],
      "execution_count": null,
      "outputs": []
    },
    {
      "cell_type": "markdown",
      "metadata": {
        "id": "I94DYtnsMKs1",
        "colab_type": "text"
      },
      "source": [
        "### **Sangría de Python**\n",
        "- La sangría se refiere a los espacios al comienzo de una línea de código.\n",
        "Mientras que en otros lenguajes de programación la sangría en el código es solo para legibilidad, la sangría en Python es muy importante.\n",
        "\n",
        "Python usa sangría para indicar un bloque de código."
      ]
    },
    {
      "cell_type": "code",
      "metadata": {
        "id": "4Hg_KQkBMoTf",
        "colab_type": "code",
        "colab": {
          "base_uri": "https://localhost:8080/",
          "height": 34
        },
        "outputId": "6cfeec58-a60a-457a-9049-013c2d60945c"
      },
      "source": [
        "#EJemplo de la sangria en python\n",
        "if 35 > 12:\n",
        "  #Como se observa en la condicion, 35 es mayor que 12 por lo cual se ejecuta nuestro programa\n",
        "  print (\"treintaicinco es mayor que doce!\")"
      ],
      "execution_count": 16,
      "outputs": [
        {
          "output_type": "stream",
          "text": [
            "treintaicinco es mayor que doce!\n"
          ],
          "name": "stdout"
        }
      ]
    },
    {
      "cell_type": "markdown",
      "metadata": {
        "id": "-9attYehNXmA",
        "colab_type": "text"
      },
      "source": [
        "Python le dará un error si omite la sangría, pruebe con el siguiente ejemplo:"
      ]
    },
    {
      "cell_type": "code",
      "metadata": {
        "id": "zUs6OsAEN56h",
        "colab_type": "code",
        "colab": {}
      },
      "source": [
        "if 35 > 12:\n",
        "#Como se puede observa la siguiente linea de codigo no tiene sangria por lo cual si la ejecutamos saldra un error\n",
        "print (\"treintaicinco es mayor que doce!\")"
      ],
      "execution_count": null,
      "outputs": []
    },
    {
      "cell_type": "markdown",
      "metadata": {
        "id": "CSAD7fvvN5sc",
        "colab_type": "text"
      },
      "source": [
        "El número de espacios depende de usted como programador, pero debe ser al menos uno; Veamos el siguiente ejemplo:"
      ]
    },
    {
      "cell_type": "code",
      "metadata": {
        "id": "Igy2IhTyO6_-",
        "colab_type": "code",
        "colab": {
          "base_uri": "https://localhost:8080/",
          "height": 51
        },
        "outputId": "775c1f01-a6e2-4293-f938-eb672f328e43"
      },
      "source": [
        "#En este caso la sangria es diferente en cantidad pero se obtiene el resultado esperado.\n",
        "if 35 > 12: \n",
        "   print (\"treintaicinco es mayor que doce!\")\n",
        "if 35 > 12:\n",
        "        print (\"treintaicinco es mayor que doce!\")"
      ],
      "execution_count": 18,
      "outputs": [
        {
          "output_type": "stream",
          "text": [
            "treintaicinco es mayor que doce!\n",
            "treintaicinco es mayor que doce!\n"
          ],
          "name": "stdout"
        }
      ]
    },
    {
      "cell_type": "markdown",
      "metadata": {
        "id": "zLuSUxvcPciF",
        "colab_type": "text"
      },
      "source": [
        "**Tienes que usar la misma cantidad de espacios** en el mismo bloque de código, de lo contrario Python te dará un error:"
      ]
    },
    {
      "cell_type": "code",
      "metadata": {
        "id": "jTc6lnH_Pqch",
        "colab_type": "code",
        "colab": {}
      },
      "source": [
        "if 35 > 12: \n",
        "   print (\"treintaicinco es mayor que doce!\")\n",
        "        print (\"treintaicinco es mayor que doce!\")"
      ],
      "execution_count": null,
      "outputs": []
    },
    {
      "cell_type": "markdown",
      "metadata": {
        "id": "UVCMOuVzQIgb",
        "colab_type": "text"
      },
      "source": [
        ""
      ]
    },
    {
      "cell_type": "markdown",
      "metadata": {
        "id": "TlGksioWQI0j",
        "colab_type": "text"
      },
      "source": [
        "## **Variables de Python**\n",
        "\n",
        "- En Python, las variables se crean cuando le asigna un valor: \n",
        "```\n",
        "#Ejemplo Variables en Python:\n",
        "x = 5\n",
        "y = \"Hello, World!\"\n",
        "```\n",
        "Como se observa el ejemplo anterior la sintaxis para definir valores es una letra = valor o \"texto\"\n",
        "\n"
      ]
    },
    {
      "cell_type": "markdown",
      "metadata": {
        "id": "rO8PMt-KSFVi",
        "colab_type": "text"
      },
      "source": [
        "## **Comentarios**\n",
        "Python tiene la capacidad de comentar a los efectos de la documentación en el código.\n",
        "\n",
        "Los comentarios comienzan con un # y Python representará el resto de la línea como un comentario:\n",
        "\n",
        "\n",
        "```\n",
        "#Esto es un comentario.\n",
        "print(\"Hola mundo!\")\n",
        "```\n",
        "\n"
      ]
    },
    {
      "cell_type": "markdown",
      "metadata": {
        "id": "tCYibf2LTU8Y",
        "colab_type": "text"
      },
      "source": [
        "## **Ejercicio:**\n",
        "- Inserte la parte que falta del código a continuación para generar \"Hola Mundo\""
      ]
    },
    {
      "cell_type": "code",
      "metadata": {
        "id": "AQ9s763rThby",
        "colab_type": "code",
        "colab": {}
      },
      "source": [
        "#\n",
        "x=\"Hola Mundo\"\n",
        "____ (x)"
      ],
      "execution_count": null,
      "outputs": []
    },
    {
      "cell_type": "markdown",
      "metadata": {
        "id": "ieqaaFotTyZe",
        "colab_type": "text"
      },
      "source": [
        ""
      ]
    },
    {
      "cell_type": "markdown",
      "metadata": {
        "id": "aPR4qay5T-nj",
        "colab_type": "text"
      },
      "source": [
        "# **Comentarios en Python**\n",
        "- Los comentarios se pueden utilizar para explicar el código Python.\n",
        "- Los comentarios se pueden utilizar para hacer que el código sea más legible.\n",
        "- Los comentarios se pueden utilizar para evitar la ejecución al probar el código.\n",
        "\n",
        "Crear un comentario\n",
        "Los comentarios comienzan con a #, y Python los ignorará:\n"
      ]
    },
    {
      "cell_type": "code",
      "metadata": {
        "id": "2x6nqyrEUqMO",
        "colab_type": "code",
        "colab": {}
      },
      "source": [
        "# Esto es un comentario\n",
        "print (\"Hola mundo\")"
      ],
      "execution_count": null,
      "outputs": []
    },
    {
      "cell_type": "markdown",
      "metadata": {
        "id": "3HJ-5fGOUuaA",
        "colab_type": "text"
      },
      "source": [
        "Los comentarios se pueden colocar al final de una línea y Python ignorará el resto de la línea:"
      ]
    },
    {
      "cell_type": "code",
      "metadata": {
        "id": "w3DNK3LZUx-f",
        "colab_type": "code",
        "colab": {}
      },
      "source": [
        "print(\"Hola MUndo\") #Esto es un comentario"
      ],
      "execution_count": null,
      "outputs": []
    },
    {
      "cell_type": "markdown",
      "metadata": {
        "id": "kcXZrdVXU3c_",
        "colab_type": "text"
      },
      "source": [
        "Los comentarios no tienen que ser texto para explicar el código, también se pueden usar para evitar que Python ejecute código:"
      ]
    },
    {
      "cell_type": "code",
      "metadata": {
        "id": "BP0bG7syU99H",
        "colab_type": "code",
        "colab": {}
      },
      "source": [
        "#print(\"Hola MUndo\") \n",
        "print(\"Hola Python\") "
      ],
      "execution_count": null,
      "outputs": []
    },
    {
      "cell_type": "markdown",
      "metadata": {
        "id": "xfPIB3zAVLYa",
        "colab_type": "text"
      },
      "source": [
        "## **Comentarios de varias líneas**\n",
        "- Python realmente no tiene una sintaxis para comentarios de varias líneas.\n",
        "\n",
        "Para agregar un comentario de varias # líneas, puede insertar un para cada línea:"
      ]
    },
    {
      "cell_type": "code",
      "metadata": {
        "id": "RShtO4w5VzzU",
        "colab_type": "code",
        "colab": {}
      },
      "source": [
        "#Esto es un comentario\n",
        "#escrito en\n",
        "#mas de una linea\n",
        "print(\"Hola mundo\")\n"
      ],
      "execution_count": null,
      "outputs": []
    },
    {
      "cell_type": "markdown",
      "metadata": {
        "id": "Zr16-VzVWEi8",
        "colab_type": "text"
      },
      "source": [
        "O, si no es el esperado, puede utilizar una cadena de varias líneas.\n",
        "\n",
        "Dado que **Python ignorará los literales de cadena que no están asignados a una variable**, puede agregar una cadena de varias líneas (comillas triples) en su código y colocar su comentario dentro de ella"
      ]
    },
    {
      "cell_type": "code",
      "metadata": {
        "id": "mLMW5W2MWPzR",
        "colab_type": "code",
        "colab": {}
      },
      "source": [
        "\"\"\" Esto es un comentario \n",
        "    escrito en\n",
        "    mas de una linea \n",
        "\"\"\"\n",
        "print(\"Hola mundo\")"
      ],
      "execution_count": null,
      "outputs": []
    },
    {
      "cell_type": "markdown",
      "metadata": {
        "id": "XlNkmjhjWev5",
        "colab_type": "text"
      },
      "source": [
        "Siempre que la cadena no esté asignada a una variable, Python leerá el código, pero luego lo ignorará y usted habrá hecho un comentario de varias líneas."
      ]
    },
    {
      "cell_type": "markdown",
      "metadata": {
        "id": "vQYbwQzhWpC4",
        "colab_type": "text"
      },
      "source": [
        "## **Ejercicio:**\n",
        "- Los comentarios en Python se escriben con un carácter especial, ¿cuál?"
      ]
    },
    {
      "cell_type": "code",
      "metadata": {
        "id": "BrrGoQTbW5D8",
        "colab_type": "code",
        "colab": {}
      },
      "source": [
        "___ Este es un comentario"
      ],
      "execution_count": null,
      "outputs": []
    }
  ]
}